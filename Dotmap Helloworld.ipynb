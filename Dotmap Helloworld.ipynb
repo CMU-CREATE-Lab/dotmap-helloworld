{
 "cells": [
  {
   "cell_type": "code",
   "execution_count": null,
   "metadata": {
    "collapsed": true
   },
   "outputs": [],
   "source": [
    "import os\n",
    "\n",
    "def init_capture(capture_dir):\n",
    "    # Create capture dir if it doesn't exist\n",
    "    if not os.path.exists(capture_dir):\n",
    "        os.makedirs(capture_dir)\n",
    "\n",
    "def format_tabblock_url(state):\n",
    "    # URL for FIPS and GNIS codes file -- https://www.census.gov/geo/reference/docs/state.txt'\n",
    "    return 'ftp://ftp2.census.gov/geo/tiger/TIGER2010/TABBLOCK/2010/tl_2010_{0}_tabblock10.zip'.format(state)\n",
    "\n",
    "def download_file(url, filename):\n",
    "    command = \"wget %s -O %s\" % (url, filename)\n",
    "    print \"Downloading %s to %s\" % (url, filename)\n",
    "    !$command\n",
    "\n",
    "def unzip_tabblock(filename, exdir):\n",
    "    command = \"unzip %s -d %s\" % (filename, exdir)\n",
    "    print \"Unzip %s to %s\" % (filename, exdir)\n",
    "    !$command\n",
    "\n",
    "ANSI_CODES = [\n",
    "    ('01', 'al'), ('02', 'ak'), ('04', 'az'), ('05', 'ar'), ('06', 'ca'),\n",
    "    ('08', 'co'), ('09', 'ct'), ('10', 'de'), ('11', 'dc'), ('12', 'fl'),\n",
    "    ('13', 'ga'), ('15', 'hi'), ('16', 'id'), ('17', 'il'), ('18', 'in'),\n",
    "    ('19', 'ia'), ('20', 'ks'), ('21', 'ky'), ('22', 'la'), ('23', 'me'),\n",
    "    ('24', 'md'), ('25', 'ma'), ('26', 'mi'), ('27', 'mn'), ('28', 'ms'),\n",
    "    ('29', 'mo'), ('30', 'mt'), ('31', 'ne'), ('32', 'nv'), ('33', 'nh'),\n",
    "    ('34', 'nj'), ('35', 'nm'), ('36', 'ny'), ('37', 'nc'), ('38', 'nd'),\n",
    "    ('39', 'oh'), ('40', 'ok'), ('41', 'or'), ('42', 'pa'), ('44', 'ri'),\n",
    "    ('45', 'sc'), ('46', 'sd'), ('47', 'tn'), ('48', 'tx'), ('49', 'ut'),\n",
    "    ('50', 'vt'), ('51', 'va'), ('53', 'wa'), ('54', 'wi'), ('55', 'wy'),\n",
    "    ('56', 'wv')\n",
    "]"
   ]
  },
  {
   "cell_type": "code",
   "execution_count": null,
   "metadata": {
    "collapsed": false
   },
   "outputs": [],
   "source": [
    "init_capture(\"capture/tabblock_2010\")\n",
    "capture_dir = \"capture/tabblock_2010/\"\n",
    "pa_id = 42\n",
    "init_capture(capture_dir)\n",
    "pa_url = format_tabblock_url(pa_id)\n",
    "pa_filename = capture_dir + os.path.basename(pa_url)\n",
    "download_file(pa_url, pa_filename)\n",
    "unzip_tabblock(pa_filename, pa_filename.split('.')[0])"
   ]
  },
  {
   "cell_type": "code",
   "execution_count": null,
   "metadata": {
    "collapsed": false
   },
   "outputs": [],
   "source": [
    "command = \"createdb tl_2010_tabblock\"\n",
    "!$command\n",
    "command = \"psql -d tl_2010_tabblock -c 'CREATE EXTENSION postgis;'\"\n",
    "!$command"
   ]
  },
  {
   "cell_type": "code",
   "execution_count": null,
   "metadata": {
    "collapsed": true
   },
   "outputs": [],
   "source": []
  }
 ],
 "metadata": {
  "kernelspec": {
   "display_name": "Python 2",
   "language": "python",
   "name": "python2"
  },
  "language_info": {
   "codemirror_mode": {
    "name": "ipython",
    "version": 2
   },
   "file_extension": ".py",
   "mimetype": "text/x-python",
   "name": "python",
   "nbconvert_exporter": "python",
   "pygments_lexer": "ipython2",
   "version": "2.7.11"
  }
 },
 "nbformat": 4,
 "nbformat_minor": 0
}
